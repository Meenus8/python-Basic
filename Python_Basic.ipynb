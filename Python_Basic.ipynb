{
  "nbformat": 4,
  "nbformat_minor": 0,
  "metadata": {
    "colab": {
      "provenance": []
    },
    "kernelspec": {
      "name": "python3",
      "display_name": "Python 3"
    },
    "language_info": {
      "name": "python"
    }
  },
  "cells": [
    {
      "cell_type": "code",
      "execution_count": null,
      "metadata": {
        "id": "42NQBMAThNu3"
      },
      "outputs": [],
      "source": []
    },
    {
      "cell_type": "markdown",
      "source": [
        "1. What is Python, and why is it popular?\n",
        "- Python is a high-level programming language known for its simplicity and readability. It's popular because it's beginner-friendly and has powerful libraries.\n",
        "\n",
        "2. What is an interpreter in Python?\n",
        "- It's a program that reads and runs Python code line by line.\n",
        "\n",
        "3. What are pre-defined keywords in Python?\n",
        "- These are reserved words like if, else, while that have special meanings in Python.\n",
        "\n",
        "4. Can keywords be used as variable names?\n",
        "- No, Python doesn’t allow using keywords as variable names.\n",
        "\n",
        "5. What is mutability in Python?\n",
        "- Mutability means whether a data object can be changed after it's created.\n",
        "\n",
        "6. Why are lists mutable, but tuples are immutable?\n",
        "- Lists are designed to be flexible and changeable; tuples are used when fixed data is needed.\n",
        "\n",
        "7. What is the difference between “==” and “is” operators in Python?\n",
        "-  == checks if values are equal, is checks if they point to the same memory location.\n",
        "\n",
        "8. What are logical operators in Python?\n",
        "-  and, or, not — they combine or modify boolean values.\n",
        "\n",
        "9. What is type casting in Python?\n",
        "- Changing a value from one data type to another (like str to int).\n",
        "\n",
        "10. Difference between implicit and explicit type casting?\n",
        "- Implicit is done by Python automatically; explicit is done by the programmer using functions like int().\n",
        "\n",
        "11. What is the purpose of conditional statements in Python?\n",
        "- They help make decisions in the code (e.g., if-else logic).\n",
        "\n",
        "12. How does the elif statement work?\n",
        "- It checks another condition if the previous if condition was False.\n",
        "\n",
        "13. Difference between for and while loops?\n",
        "for is used when the number of iterations is known; while is used when the condition is the focus.\n",
        "-\n",
        "14. When is a while loop more suitable than a for loop?\n",
        "- When we don’t know how many times we’ll loop — like reading input until the user types \"exit\"."
      ],
      "metadata": {
        "id": "0NU9wGd4nX1g"
      }
    }
  ]
}