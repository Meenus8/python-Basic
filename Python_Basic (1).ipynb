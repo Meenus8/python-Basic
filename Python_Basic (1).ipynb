{
  "nbformat": 4,
  "nbformat_minor": 0,
  "metadata": {
    "colab": {
      "provenance": []
    },
    "kernelspec": {
      "name": "python3",
      "display_name": "Python 3"
    },
    "language_info": {
      "name": "python"
    }
  },
  "cells": [
    {
      "cell_type": "markdown",
      "source": [],
      "metadata": {
        "id": "MhWXg8fzx2Hu"
      }
    },
    {
      "cell_type": "markdown",
      "source": [
        "1. What is Python, and why is it popular?-\n",
        "- Python is a simple and powerful programming language that’s easy to read and write. It’s popular because it works for everything — from websites and apps to data analysis and AI. Plus, beginners find it super friendly.\n",
        "\n",
        "2. What is an interpreter in Python?\n",
        "- An interpreter is what runs the Python code. It goes through the code line by line and executes it directly, which makes it easier to spot errors and test code quickly.\n",
        "\n",
        "3. What are pre-defined keywords in Python?\n",
        "- Keywords are special words in Python that are already reserved for certain tasks, like if, else, def, etc. We can’t use them to name our variables.\n",
        "\n",
        "4. Can keywords be used as variable names?\n",
        "- No, keywords can't be used as variable names because they already have a fixed role in Python's syntax and using them would confuse the interpreter.\n",
        "\n",
        "5. What is mutability in Python?\n",
        "- Mutability means whether something can be changed or not after it's created. If we can change it, it’s called mutable; if not, it’s immutable.\n",
        "\n",
        "6. Why are lists mutable, but tuples are immutable?\n",
        "- Lists are made to be flexible — we can add, remove, or update items. Tuples are more fixed and used when we want to protect the data from being changed accidentally.\n",
        "\n",
        "7. What is the difference between “==” and “is” operators in Python?\n",
        "- == checks if two values are the same, while is checks if they are actually the same object in memory. So, == is about value, is is about identity.\n",
        "\n",
        "8. What are logical operators in Python?\n",
        "- Logical operators let us combine conditions. Python has and, or, and not. For example, and returns True only if both sides are True.\n",
        "\n",
        "9. What is type casting in Python?\n",
        "- Type casting means changing one type of value into another — like turning a string \"5\" into an integer using int(\"5\").\n",
        "\n",
        "10. What is the difference between implicit and explicit type casting?\n",
        "- Implicit type casting is done by Python on its own — like turning an int to a float during math. Explicit is when we do it ourselves using functions like int(), float(), or str().\n",
        "\n",
        "11. What is the purpose of conditional statements in Python?\n",
        "- Conditional statements like if, elif, and else help the program decide what to do depending on the situation. It’s how we make the code act differently based on different inputs.\n",
        "\n",
        "12. How does the elif statement work?\n",
        "- elif lets us check more than one condition. If the first if isn’t true, Python checks the elif. If none of them are true, it goes to the else.\n",
        "\n",
        "13. What is the difference between for and while loops?\n",
        "- for loops are great when we know how many times we want to repeat something — like printing numbers 1 to 10. while loops are better when we want to keep going until something changes, and we don’t know how long it will take.\n",
        "\n",
        "14. Describe a scenario where a while loop is more suitable than a for loop.\n",
        "- Suppose we keep asking a user to type their password until it’s correct. We don’t know how many tries it’ll take — in that case, a while loop is a better fit than a for loop.\n",
        "\n",
        "\n",
        "\n"
      ],
      "metadata": {
        "id": "0NU9wGd4nX1g"
      }
    },
    {
      "cell_type": "markdown",
      "source": [
        "# Write a Python program to print \"Hello, World!"
      ],
      "metadata": {
        "id": "qguGB7J-vUtG"
      }
    },
    {
      "cell_type": "code",
      "source": [
        "print(\"Hello, World!\")"
      ],
      "metadata": {
        "id": "50SnKA2CvZla"
      },
      "execution_count": null,
      "outputs": []
    },
    {
      "cell_type": "markdown",
      "source": [
        "# Write a Python program that displays your name and age"
      ],
      "metadata": {
        "id": "XQWWYrgOvmkO"
      }
    },
    {
      "cell_type": "code",
      "source": [
        "name = \"Cappy\"\n",
        "age = 20\n",
        "print(\"Name:\", name)\n",
        "print(\"Age:\", age)"
      ],
      "metadata": {
        "id": "9j8klX-mvra2"
      },
      "execution_count": null,
      "outputs": []
    },
    {
      "cell_type": "markdown",
      "source": [],
      "metadata": {
        "id": "cs-D0XcVvvXA"
      }
    },
    {
      "cell_type": "markdown",
      "source": [
        "# Write code to print all the pre-defined keywords in Python using the keyword library8"
      ],
      "metadata": {
        "id": "8kPT895ov3SE"
      }
    },
    {
      "cell_type": "code",
      "source": [
        "import keyword\n",
        "print(keyword.kwlist)"
      ],
      "metadata": {
        "id": "-xx28TtLv-BH"
      },
      "execution_count": null,
      "outputs": []
    },
    {
      "cell_type": "markdown",
      "source": [
        "# Write a program that checks if a given word is a Python keyword."
      ],
      "metadata": {
        "id": "PdfTPi9KwIru"
      }
    },
    {
      "cell_type": "code",
      "source": [
        "import keyword\n",
        "\n",
        "word = input(\"Enter a word: \")\n",
        "if keyword.iskeyword(word):\n",
        "    print(f\"{word} is a Python keyword.\")\n",
        "else:\n",
        "    print(f\"{word} is NOT a Python keyword.\")"
      ],
      "metadata": {
        "id": "nSxu8gnHwJ4P"
      },
      "execution_count": null,
      "outputs": []
    },
    {
      "cell_type": "markdown",
      "source": [
        " # Create a list and tuple in Python, and demonstrate how attempting to change an element works differently\n",
        "for each."
      ],
      "metadata": {
        "id": "2P8A87kQwMU_"
      }
    },
    {
      "cell_type": "code",
      "source": [
        "# List (mutable)\n",
        "my_list = [10, 20, 30]\n",
        "my_list[1] = 200\n",
        "print(\"Modified list:\", my_list)\n",
        "\n",
        "# Tuple (immutable)\n",
        "my_tuple = (10, 20, 30)\n",
        "try:\n",
        "    my_tuple[1] = 200  # This will raise an error\n",
        "except TypeError as e:\n",
        "    print(\"Error modifying tuple:\", e)"
      ],
      "metadata": {
        "id": "WEmKe-s-wOrp"
      },
      "execution_count": null,
      "outputs": []
    },
    {
      "cell_type": "markdown",
      "source": [
        "### Write a function to demonstrate the behavior of mutable and immutable arguments."
      ],
      "metadata": {
        "id": "W1J8nGAAwuTG"
      }
    },
    {
      "cell_type": "code",
      "source": [
        "def test_behavior(my_list, my_number):\n",
        "    my_list.append(100)\n",
        "    my_number += 10\n",
        "    print(\"Inside function - list:\", my_list)\n",
        "    print(\"Inside function - number:\", my_number)\n",
        "\n",
        "lst = [1, 2, 3]\n",
        "num = 5\n",
        "\n",
        "test_behavior(lst, num)\n",
        "print(\"Outside function - list:\", lst)\n",
        "print(\"Outside function - number:\", num)\n"
      ],
      "metadata": {
        "id": "94Drb_8Xwx-8"
      },
      "execution_count": null,
      "outputs": []
    },
    {
      "cell_type": "markdown",
      "source": [
        "### Q7. Write a program that performs basic arithmetic operations on two user-input numbers.\n"
      ],
      "metadata": {
        "id": "_zcwni72wz0u"
      }
    },
    {
      "cell_type": "code",
      "source": [
        "a = float(input(\"Enter first number: \"))\n",
        "b = float(input(\"Enter second number: \"))\n",
        "\n",
        "print(\"Sum:\", a + b)\n",
        "print(\"Difference:\", a - b)\n",
        "print(\"Product:\", a * b)\n",
        "print(\"Quotient:\", a / b)\n"
      ],
      "metadata": {
        "id": "CEI__BxAw26u"
      },
      "execution_count": null,
      "outputs": []
    },
    {
      "cell_type": "markdown",
      "source": [
        "### Q8. Write a program to demonstrate the use of logical operators.\n"
      ],
      "metadata": {
        "id": "jT40nLCew6Mm"
      }
    },
    {
      "cell_type": "code",
      "source": [
        "x = True\n",
        "y = False\n",
        "\n",
        "print(\"x and y:\", x and y)\n",
        "print(\"x or y:\", x or y)\n",
        "print(\"not x:\", not x)\n"
      ],
      "metadata": {
        "id": "3MZweY22w8jl"
      },
      "execution_count": null,
      "outputs": []
    },
    {
      "cell_type": "markdown",
      "source": [
        "### Q9. Write a Python program to convert user input from string to integer, float, and boolean types.\n"
      ],
      "metadata": {
        "id": "6RR97ATxxAGJ"
      }
    },
    {
      "cell_type": "code",
      "source": [
        "val = input(\"Enter a value: \")\n",
        "\n",
        "int_val = int(val)\n",
        "float_val = float(val)\n",
        "bool_val = bool(val)\n",
        "\n",
        "print(\"Integer:\", int_val)\n",
        "print(\"Float:\", float_val)\n",
        "print(\"Boolean:\", bool_val)\n"
      ],
      "metadata": {
        "id": "KutGZe3txCrS"
      },
      "execution_count": null,
      "outputs": []
    },
    {
      "cell_type": "markdown",
      "source": [
        "### Q10. Write code to demonstrate type casting with list elements.\n"
      ],
      "metadata": {
        "id": "u1xBN5KAxFEr"
      }
    },
    {
      "cell_type": "code",
      "source": [
        "str_list = [\"1\", \"2\", \"3\", \"4\"]\n",
        "int_list = [int(x) for x in str_list]\n",
        "print(\"Converted list:\", int_list)\n"
      ],
      "metadata": {
        "id": "GAFJ8zBFxJwl"
      },
      "execution_count": null,
      "outputs": []
    },
    {
      "cell_type": "markdown",
      "source": [
        "### Q11. Write a program that checks if a number is positive, negative, or zero.\n"
      ],
      "metadata": {
        "id": "DQ_o2TCIxMWP"
      }
    },
    {
      "cell_type": "code",
      "source": [
        "num = float(input(\"Enter a number: \"))\n",
        "\n",
        "if num > 0:\n",
        "    print(\"Positive\")\n",
        "elif num < 0:\n",
        "    print(\"Negative\")\n",
        "else:\n",
        "    print(\"Zero\")\n"
      ],
      "metadata": {
        "id": "QEReMG9exP38"
      },
      "execution_count": null,
      "outputs": []
    },
    {
      "cell_type": "markdown",
      "source": [
        "### Q12. Write a for loop to print numbers from 1 to 10.\n"
      ],
      "metadata": {
        "id": "LGgksQDSxRms"
      }
    },
    {
      "cell_type": "code",
      "source": [
        "for i in range(1, 11):\n",
        "    print(i)\n"
      ],
      "metadata": {
        "id": "QtX86-rmxUH6"
      },
      "execution_count": null,
      "outputs": []
    },
    {
      "cell_type": "markdown",
      "source": [
        "### Q13. Write a Python program to find the sum of all even numbers between 1 and 50.\n"
      ],
      "metadata": {
        "id": "ozHmMvGExXcn"
      }
    },
    {
      "cell_type": "code",
      "source": [
        "total = 0\n",
        "for i in range(1, 51):\n",
        "    if i % 2 == 0:\n",
        "        total += i\n",
        "print(\"Sum of even numbers from 1 to 50:\", total)\n"
      ],
      "metadata": {
        "id": "WnEUhiYVxZ-l"
      },
      "execution_count": null,
      "outputs": []
    },
    {
      "cell_type": "markdown",
      "source": [
        "### Q14. Write a program to reverse a string using a while loop.\n"
      ],
      "metadata": {
        "id": "KzQFFhKAxcwA"
      }
    },
    {
      "cell_type": "code",
      "source": [
        "text = input(\"Enter a string: \")\n",
        "reversed_text = \"\"\n",
        "i = len(text) - 1\n",
        "\n",
        "while i >= 0:\n",
        "    reversed_text += text[i]\n",
        "    i -= 1\n",
        "\n",
        "print(\"Reversed string:\", reversed_text)\n"
      ],
      "metadata": {
        "id": "ECkwA4H8xelH"
      },
      "execution_count": null,
      "outputs": []
    },
    {
      "cell_type": "markdown",
      "source": [
        "### Q15. Write a Python program to calculate the factorial of a number provided by the user using a while loop.\n"
      ],
      "metadata": {
        "id": "As-rEh8nxheD"
      }
    },
    {
      "cell_type": "code",
      "source": [
        "num = int(input(\"Enter a number: \"))\n",
        "factorial = 1\n",
        "\n",
        "while num > 0:\n",
        "    factorial *= num\n",
        "    num -= 1\n",
        "\n",
        "print(\"Factorial:\", factorial)\n"
      ],
      "metadata": {
        "id": "0aE9jBmixjr2"
      },
      "execution_count": null,
      "outputs": []
    }
  ]
}